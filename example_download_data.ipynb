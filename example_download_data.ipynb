{
 "cells": [
  {
   "cell_type": "raw",
   "metadata": {
    "vscode": {
     "languageId": "raw"
    }
   },
   "source": [
    "# Example: Download and Verify Amazon Review Dataset\n",
    "\n",
    "This notebook demonstrates how to download and verify the preprocessed Amazon review dataset from HuggingFace Hub.\n"
   ]
  },
  {
   "cell_type": "code",
   "execution_count": 4,
   "metadata": {},
   "outputs": [],
   "source": [
    "import pandas as pd\n",
    "import numpy as np\n",
    "from datasets import load_dataset\n",
    "from huggingface_hub import HfApi\n",
    "from pathlib import Path\n",
    "\n",
    "# Repository information\n",
    "REPO_ID = \"ChernovAndrei/reco-fm-data\"\n",
    "SUBSET = \"5core_last_out_w_his_All_Beauty\"\n",
    "\n",
    "# Initialize HuggingFace API\n",
    "api = HfApi()\n"
   ]
  },
  {
   "cell_type": "raw",
   "metadata": {
    "vscode": {
     "languageId": "raw"
    }
   },
   "source": [
    "## 1. Download Data\n",
    "\n",
    "First, let's download all the data splits from HuggingFace Hub.\n"
   ]
  },
  {
   "cell_type": "code",
   "execution_count": 16,
   "metadata": {},
   "outputs": [
    {
     "name": "stdout",
     "output_type": "stream",
     "text": [
      "Loading data from HuggingFace Hub...\n",
      "\n",
      "Dataset loaded successfully!\n"
     ]
    }
   ],
   "source": [
    "# Load all splits\n",
    "print(\"Loading data from HuggingFace Hub...\")\n",
    "\n",
    "# Get the list of files in the repository\n",
    "repo_files = api.list_repo_files(REPO_ID, repo_type=\"dataset\")\n",
    "\n",
    "# Function to load a specific split\n",
    "def load_split(file_pattern):\n",
    "    matching_files = [f for f in repo_files if file_pattern in f]\n",
    "    if not matching_files:\n",
    "        raise ValueError(f\"No files found matching pattern: {file_pattern}\")\n",
    "    return load_dataset(REPO_ID, data_files=matching_files[0], split='train')\n",
    "\n",
    "# Load interaction data (train/val/test)\n",
    "train_data = load_split(\"train/train_data.parquet\")\n",
    "val_data = load_split(\"val/val_data.parquet\")\n",
    "test_data = load_split(\"test/test_data.parquet\")\n",
    "\n",
    "# Load metadata and embeddings\n",
    "metadata = load_split(\"meta/metadata.parquet\")\n",
    "embeddings = load_split(\"embeddings/title_embeddings.parquet\")\n",
    "\n",
    "print(\"\\nDataset loaded successfully!\")\n"
   ]
  },
  {
   "cell_type": "code",
   "execution_count": 25,
   "metadata": {},
   "outputs": [
    {
     "data": {
      "text/plain": [
       "array(['AE23ZBUF2YVBQPH2NN6F5XSA3QYQ', 'AE3335XF4PMHSXKTW5B7N7EALG3Q',\n",
       "       'AE3KLVXGZPANXE5XLXYKHTVAZ3FQ', 'AE3LUVAAITFJIUTWBMRPHDQOCOFQ',\n",
       "       'AE3PLZHW6NXWBMZ76TDVFQG2MJFA', 'AE3QBGRRHKT3GFDPRXFEN7JICEZQ',\n",
       "       'AE3UKETTR77J4LM2ZE4AEUC4L6KA', 'AE53TOMIUB7ENP3RD44KDAARU6AQ',\n",
       "       'AE5ESL52LWWBJTSFOAXSFZA3XCGQ', 'AE5GH4VM5Q5HNUL4EOAYRLNB7RVA',\n",
       "       'AE5IMGWRBJA7JQFBQTBK25HDYGVA', 'AEAT2QOOIXWFLBQESCVLAVXLK3RQ',\n",
       "       'AEAXAJACFMXIAAH4WOHRMXPSZWFA', 'AEBWGXGGL3Q5DSTMUQSTVUJDWSMA',\n",
       "       'AEC6IZVI2NGFBCIYVD4X5MDGB6DQ_2', 'AECADZLPUNH3BDNACLFF7PSHN5MQ',\n",
       "       'AECIT3NMW6RKABFS6YOCYX4YUYOQ', 'AECOPBDL3PHOESNB2RXKPZSXGBOA',\n",
       "       'AECQQBG6YRYCOJL2NCB2H3V6LD6Q', 'AECTRGMRKOGAYIV3YXX73CQEQCSQ',\n",
       "       'AEE4M36AZAKURLEYGV23TM3BE7OQ', 'AEFRTLVCVRALKXBED77KHPIXEPWQ',\n",
       "       'AEFU6XKGH6J4ZIYTVVBGEDUCTZHQ', 'AEGKJTQWHGBIOTO34OB3GKIGCN7A',\n",
       "       'AEGTJSI4X2EZHAL5VWJV3RCJIO4A', 'AEH7RAIDBU7QALXTMWAA73PTL4JA',\n",
       "       'AEHGY7TZA4IMOXXBGPTZC7UPM6UQ', 'AEHLKY7Q5O3D3E6YEV67JIBVFNFA',\n",
       "       'AEHWKRPNWNMOAJSMO2F6O7RFRTNA', 'AEHZBUFEOW4TY3K4IYFFR5ZU5B3Q',\n",
       "       'AEIGRLFPH5Z3EQ73Z23CJ3WX6R6A', 'AEIW7GMVHQ4HBUXTTYEMHEMADUMQ',\n",
       "       'AEJU3Z6HDAERETMYI2CXBQVPPDFA', 'AEK3IYABOEGTXOTX7P6SBQJUP57A',\n",
       "       'AEKNMPUXBMNMHDYWMLKOUTEY3LYA', 'AEKV4Q3JUQTQA2UR7PH7QLUHUTTQ',\n",
       "       'AELHYMCYVS6T35HA3UH5UGFWTK6Q', 'AELRWE7QQJRKDFHDQHVAODTF5FRA',\n",
       "       'AELZIKZNMROP2SMO5XXVB4V36RJA', 'AEMP3A7IKW37CMWFXNKXWW6HGJHA_1',\n",
       "       'AEMRAZPNN2NBBUDV4YGGYMGPFC6A', 'AENALXICBEUWDJG6U2GYCGEVM3OQ',\n",
       "       'AEODUUL6REW3PW2ZGFREKGWBYUZA', 'AEOJWMWHWXTDHZ2X6TLFNHCOEH4Q',\n",
       "       'AEOK4TQIKGO23SJKZ6PW4FETNNDA_1', 'AEOTWG667CGEIHYH33COIX53Y25Q',\n",
       "       'AEPEDW5FBBJ2XYR2BIJAKUPHCMHA', 'AEPKAGO2WGVI55RQAVNBXKGJ2BOQ',\n",
       "       'AEPUSQBCPOBYEQDRQD5RI6Q67ERQ', 'AEPY4UJP6QEKT5DBCY2QYMAFMMAQ',\n",
       "       'AEQ7D7IDDUFNPOL4VDSXWZPIWKUQ', 'AEQJM4TTCTH6MTHXAUQHIZ4JZZHA',\n",
       "       'AEQKG4FNUB67X4JUBJRWT3ISVKDQ', 'AERGQ6U7YCR6JZ54FFKYPUM7PFDQ',\n",
       "       'AERJSFYTGI6ACY5VSOYQ5RAN6QFQ', 'AES3YWD3ONJOUDRWFIV2ZO44QDAQ',\n",
       "       'AESCUI6VXJSHLUIO44Y5ERAHZE4A', 'AESI2BA4YODTHOSRFLJCSTAM6XDQ',\n",
       "       'AESIZ3ATHVPMZM5NI6ZJOZBH547A', 'AESWZGOSDDULZ2TWG6GLDEU2X5JA',\n",
       "       'AETJVSLQFY2F7D5AZ7H4ONORPQEQ_1', 'AETWQ4GYGV4QRMTMWGBIDVASBKHA',\n",
       "       'AEU64BW76A3GKMZAGLUZZORCMB7A', 'AEUAQ6BAUEBP2C754LR3ILYHP54Q',\n",
       "       'AEV4UO43YIZXLNB4E64KWRJ3ACXQ', 'AEV7Q27IHW3CU2NGA5NMHVHTLIAQ',\n",
       "       'AEVFWS7JFEKHYDZKH4SI5YDSNGJQ', 'AEVFWS7JFEKHYDZKH4SI5YDSNGJQ_1',\n",
       "       'AEWHLGO6FWZ4ZO7N6TX7I2FYO6EA', 'AEXGISIVX7WBUNI7UHHERVB3DF7Q',\n",
       "       'AEXO6YBJHQZFPLVRQJI6VX7IJDNA', 'AEXPTZ272HHG2KO2JAGU5IL45HIQ',\n",
       "       'AEXYLV5YOYWSLGG47VVECVURA7XQ', 'AEYVPPWR4CIKWX4BGYKCBCDL2CZQ',\n",
       "       'AEZG2W4TRMMNFFAWS2BPQE676K4Q', 'AEZP6Z2C5AVQDZAJECQYZWQRNG3Q',\n",
       "       'AEZUL3R34WWAORYARPTJG2X6KC5Q_1', 'AEZY3WQ5CO4DOXRNJOWWXJYKCAXQ',\n",
       "       'AF2AJZ2KIDH4QJSOXBKCFGAZITGA', 'AF2BLE54TEMGZ546U763ZHZRXC4A',\n",
       "       'AF2LFSDT2SHRD2WEEC3O2ZWIWYEQ', 'AF2YKZQRMRGJ655I3MKQUYFGRQGA',\n",
       "       'AF3RENOGZJOCO24HPO75EEIF4EHQ', 'AF3SRSVEGKHPRSWJ5G4GDUILTOYA',\n",
       "       'AF4P6A3SEKS2HCISWAKFZVIFM7NQ', 'AF4T3AQXLGSWBXPJV3RI2DBPEYUA',\n",
       "       'AF4TV3NNARN2N7YV6Z44S2YN237A', 'AF4UB2PGVLHK45WF7I6OED36OQDA',\n",
       "       'AF4XCHGF2AJ4S2MV22Y7KOUJFZPQ', 'AF5A5PMCP3EPIOVGZSAJWNICC6UQ',\n",
       "       'AF5IQSGLYMWLW4KH2V7VTUZLHUOA', 'AF7XNTURXVPO55T5EP4B4DVPQPPQ',\n",
       "       'AFB3QHU3MOWSWQ7ISC5I7JISKQVQ', 'AFB7QGOJXRTRRZ3SDOSIRCR66UQQ',\n",
       "       'AFBUKVT3KQFLL4X536HS4KKBBJ7Q', 'AFDNVPMB44ZS5O2CSJTL47BI2QTQ',\n",
       "       'AFDYIK3FNPY2JFBQYUWC6GSBMIRQ_2', 'AFEFRMJ5OQHPKVHB3YSZXIS7V4CQ',\n",
       "       'AFESFBY7EYJMQNKR572SZFAAET5Q', 'AFEYLO2BKJA2CAG6QGE55RGC7PDA',\n",
       "       'AFFGJTTHRCSKGMMCNHT7UWTMKKCQ', 'AFFHB6JLPVY4W566NW67GFKDBRNQ',\n",
       "       'AFGCJIO7DNVCCZPG4KVMKKXVPJLQ', 'AFGGRGHGHSFKMZASFBYFRHBBEOPA',\n",
       "       'AFHB5H6XQKOFLV7JRZUBA6IHJC6A', 'AFJBKPK5W56XWSNPQU2WW66ISWYQ',\n",
       "       'AFJOKSJE3KPYSUXT6TCKRRD4RO2Q', 'AFKX24ALWAPX366KX6DWTOBWLQAA',\n",
       "       'AFKZESU3PTCQ2UVDBDSFVFTXBFNQ_1', 'AFKZESU3PTCQ2UVDBDSFVFTXBFNQ_2',\n",
       "       'AFLI33M7ADMQ2B3DSIJLODWUHTAA', 'AFLKX7ZNVK2DN6LG3EAP6ZNYUFHA',\n",
       "       'AFNACT4MLU243POBVE666TFVUPGQ', 'AFNCHMAKUAJOGVCKOA4XGLINHPDQ',\n",
       "       'AFNRGRORFAGSB7WGANETBDDYDEAQ', 'AFO6QRJE7PPMBY2P66V2FPKJUIEA',\n",
       "       'AFPMVI6ZRR7KS7AWRIBCKILWDVIA', 'AFPPNF3RSFMMNC5UAM6V4B475MBQ',\n",
       "       'AFPQJSBCMEKL3PT54KPROBQ2TAXA', 'AFQQQ5LGNSQUEBGDCYBAZZE5T3DA',\n",
       "       'AFR2XB7TRMQJCRB6INYP2W73EH5A', 'AFRMOOG7VG4WSGTOQCQMGLIGC5LA_1',\n",
       "       'AFRUBJ22O26J35OD5MJLBC6RUJKQ', 'AFSHXT5PTGDSFW2725SDXIE6ZVEA',\n",
       "       'AFSKPY37N3C43SOI5IEXEK5JSIYA', 'AFSQYNVKFMP3WWNXTFTNBFNU3EOA',\n",
       "       'AFSYEOBTC3ULN3DGKABPFR6FIWQQ', 'AFTJ7XQN2EIELHARUBBL6Y7L65DA',\n",
       "       'AFUWF5DARSSBPDLHSY67Q3LCI54Q', 'AFV2E7NCZRG62FXOLQO2SHSN5H3A',\n",
       "       'AFVOZ4UNUZKEQ7GTQ3IHQY7PZ5FA_1', 'AFVV7CLXY43P3Z3F7SROBZATZVSQ',\n",
       "       'AFWVN52MRBWOTIK7UGXBWGOY4HBA', 'AFXF3EGQTQDXMRLDWFU7UBFQZB7Q',\n",
       "       'AFY3DF5ZXFAWH5ADLZPJYCW2IM2Q', 'AFZDKJMOCGD5KJ2TXWOZB5OAJO5A',\n",
       "       'AFZGS7XLGLJFUSUWNX4XA6SGEZQA', 'AFZIHXLLRIZYAZDRCGC3Z4DYUMQQ',\n",
       "       'AFZSVK7P23M2B7GYUYU7TQIHCGFA_1', 'AG2V56KGC2Y3VNKPON3W56ZGFOFA',\n",
       "       'AG3FVTSD7ISLKALIPY24IVJCCDTA', 'AG3GU5MHHM662AATYNDWYOKOZP7A',\n",
       "       'AG3HKK7MIKRQ7DOTNDOE63X2WJGQ', 'AG4D44BNNLUEZNG7COK2CNRYUHYQ',\n",
       "       'AG4TRGDHYIBT4CH63VJYM5IOAMTQ', 'AG5A4BNLSYHH2IEFJD3UM3N2IPMA',\n",
       "       'AG644AQBRT56BVFDCJMISCNTSRMA', 'AG73BVBKUOH22USSFJA5ZWL7AKXA',\n",
       "       'AG7JCEMC64AM7JPATDVGP6YZOTXA', 'AG7WXYJR3N3IOL7NX6QUZJUPBVDA',\n",
       "       'AGADKXWLAJJ4FGWIDIWAPJL5A6HA', 'AGAM2CCKV52HI4YZU7ASZTSXA7YQ',\n",
       "       'AGAVFN7CIWVLIDLJSMFNLJWNEDUQ', 'AGBG3KK74IKWJNQVMQAGVBWJ7FAQ',\n",
       "       'AGC7QCUXJISMEA6RKUGWBKYFA3EA', 'AGCGQWDEGSGIIT7AZZ7RGY5ZU74Q',\n",
       "       'AGCV6N4LVTEQVYSE3LXR3J2QB3EA', 'AGD25H7BIT2JUXSIOPYCYB23J3ZQ',\n",
       "       'AGFAOH3NMW2D7YV3QVZSTXMTSKIQ', 'AGFBEZSOTMPM4M4CHRW3QPDAHJUQ',\n",
       "       'AGFLDIUYV2PKF5Q7IEMULR52GW2Q', 'AGFXY5HVXFJFJ2SJDGZL5YLGR6RA',\n",
       "       'AGGAEZZTJZWEGLEMKXW5NTNXH7VQ', 'AGJMUGA3ZLDJXI7HMYAZXXISE3UQ',\n",
       "       'AGJWAZESYDYURVDSAMHKVAM2IBWQ', 'AGK5FHPJXPI75CVFCUKFFKLIF3VQ',\n",
       "       'AGLGCQJ6R7DK2HOZRYGHMQ7D6BTA', 'AGLIUT3VWAE7UEZHWVHNLDTBOAEQ',\n",
       "       'AGLLAOO4MTOC5RG6EIUCOSK4XXXA', 'AGLQET6T4ZX4C4UXTNEMYHIWLFHA',\n",
       "       'AGLW4RPFGBKWE3FBZBEP2JWUIOCA', 'AGN5KJZU3FYSKVWXWM66LXYWL5CQ',\n",
       "       'AGNP7WAB6CTY72PMMJZTE2DABPPA', 'AGNUU44ETNXLBOUB53LJGFJP3SQA',\n",
       "       'AGOLMT3QETKYNESRYKBA6D7XXS7A', 'AGPCJNECQMG7LPLITZVHXP3F2HUA',\n",
       "       'AGPGFFJDCKXPNBWCC5YP2ZUDPNGA', 'AGPTRM72WHO5EUPQUWS47FFGAALA',\n",
       "       'AGQIUTI7M4XUGCRV6E66FAOCX5PQ', 'AGQVYRFKX6G5VO65RHQ7UZKGSTKQ',\n",
       "       'AGQXRXHIEUGJU6KNUPNWMXYBRREA', 'AGRKJRPX6I5DQPODOC4YJ7CT4XWA',\n",
       "       'AGRO3UTLKTF724ZW64QXGWXJ4SYA', 'AGROTY3KEQXC7OWGNLDMPTDPJXHA',\n",
       "       'AGS4KJHF5LOOWT2A5TJJFMB24VOA', 'AGSVNZDZNPCMXG5DEFXMZNRH2LCQ',\n",
       "       'AGTGHYRTZXKX4AIL42A3FKWR7SOQ', 'AGTW6ZGPUAORQ7X6CNBP6PJW7OTA',\n",
       "       'AGV2YW5B3SCKG6WV422CIITZOGRQ', 'AGV5NQ4JDQD6NHXVF6AVZPVDX66Q',\n",
       "       'AGWF6BTLJVQQ2N2R5PKNJOLY65GQ', 'AGWXHH2DQWVMVZA3GHAFJQ7ROGQA',\n",
       "       'AGXMWJK3YL4SV5FJ27JEJZPZHRBA', 'AGYVC7KVHP2AWM7BDCEYNHFA6F3Q',\n",
       "       'AGZSDSHEGWQOJZAJRXGXXV4FULIA', 'AGZUJTI7A3JFKB4FP5JOH6NVAJIQ_1',\n",
       "       'AGZYMSCZZ5SPWHX5AVWTP64TY7AA', 'AGZZXSMMS4WRHHJRBUJZI4FZDHKQ',\n",
       "       'AH23OXTW7BKRZ3YB6JBQGFB3SMIQ', 'AH2LTMRG3MQNGRZYPPCOJF4KPS3A',\n",
       "       'AH36N5HJJQCBDAURJUTFAIB4GRFA', 'AH3BXW7KLIS2VAE56UXJS2NS7I5A',\n",
       "       'AH3POWPCN3JIW3IUL6H24L536NQQ', 'AH4PCTM7BHVUX6WCGJB5PNS6K3JQ',\n",
       "       'AH4TB6XJJKH3WLSX2D56JYJ4Z4ZA', 'AH5BEMAKZE5RJ3JSHUYOJ7S2WKBA',\n",
       "       'AH5HSMUMRJRDWBPFDQ6G3EAAOSFQ', 'AH5ONINJRNZ674DXUMV4RMYIFYVQ',\n",
       "       'AH5PGJYVXBFVRXAFSTA7AEH4EXRQ', 'AH6JLX5SJSUOJBBT6RRE2RDXIG6A',\n",
       "       'AH7LDXK3GT67FZKMRW7MP477DJVQ', 'AHA6NYC6QHOU7G37PNF5EBIOUBWQ',\n",
       "       'AHALZ7AKVAVL7QEVBCI55JVLGXOQ', 'AHBDPVXHGNIRMIGLCRCABCOLFJTA',\n",
       "       'AHBEKWBIK2I7EPZH4L2Z2G4IZWNA', 'AHBFC446AIQBMLC3U4SV6YJJERPQ',\n",
       "       'AHBWH2LBU3NFLD46GKJKIBAHKXEQ', 'AHC6X7NTYM3C36TZF7C3K3Q7HDEA',\n",
       "       'AHCA3FF2KQI7SRT32XBZCNHFEHOQ', 'AHCR53CDYDQAS6C5TZXQWB4PWTCQ',\n",
       "       'AHDVSLWHSORYGG3S5QZMVDFNOXUQ', 'AHEJQ4CPSHAQNTHL4BCVCAPZ7YWA',\n",
       "       'AHF2R43HMV6S2J42LN6NLQTRBLJA', 'AHG5KKQMMZJA46LDH73IZ4QUHYXA',\n",
       "       'AHGIDR4IJFS23Q4GTZ33FI5LYDSQ_1', 'AHGQDSOBAIVAAKJFIVEGS344MSXA',\n",
       "       'AHH7DYW535JNEGASCET44RLTKG7A', 'AHHWCYE6JF6MMRDKHOGRTNAUOMPA',\n",
       "       'AHLQVJPH73V2UVWJCRLAXXFKOGLQ', 'AHLZVZPQ5TWJ6KXNLADJBDZAT7EA',\n",
       "       'AHMG3ALUBE3FEBHODTBHP5J24YDA', 'AHMZDG7TLXFO6H5RPWEX6PX6EN5A',\n",
       "       'AHO7CJSLW22GMWPFB35V3L4OFUYQ', 'AHOYQ263ZGBZIBPQGKNVAWG35DNQ',\n",
       "       'AHPG65LKS3QKRWDUWAKZNLEK5RZQ', 'AHPG65LKS3QKRWDUWAKZNLEK5RZQ_1',\n",
       "       'AHPGHDFIU3BUB3RQBP56RQQA7W4Q', 'AHSP5IKX6USXFMSHWDQMXSKAEJ3Q',\n",
       "       'AHSV4TYSAX52BIHH7PLZRD44KZHA', 'AHT556AWAYQIXS3RB57QNRQLBARQ',\n",
       "       'AHT6AM6BNIZUHFJB5V2M6XM72G7Q', 'AHT7TDFPRBZE3GH7RFKCPSCEAR5Q',\n",
       "       'AHTLWVDXSMG5YMVMEIWWOU6XBZMA', 'AHTOPAM4UMS6AZRFWMBBXWNYYEVQ',\n",
       "       'AHUIIYUMY5OXQWRECL5JEK4AITBA', 'AHV6QCNBJNSGLATP56JAWJ3C4G2A',\n",
       "       'AHVS5I6ROMNPROYEMWTCCLR6WP6A', 'AHWCZ47A7FIYEJ7KEJG3BO3F5YXQ',\n",
       "       'AHX2B4DEER2QR3IU3CCNB3CWC6TA', 'AHXL6HSB4XCGSXWTGDHXNFDAMDDA',\n",
       "       'AHY2TURQPNIDXZGH2CMQLZ343YMQ', 'AHY37H4JF643FXWO3USRK3VSFFQA',\n",
       "       'AHYOSWORVZFXM5QMRIAW3JTTFFIQ'], dtype='<U30')"
      ]
     },
     "execution_count": 25,
     "metadata": {},
     "output_type": "execute_result"
    }
   ],
   "source": [
    "np.unique(train_data['user_id'])"
   ]
  },
  {
   "cell_type": "raw",
   "metadata": {},
   "source": [
    "## 3. Verify Data Consistency\n",
    "\n",
    "Let's check if all the necessary product information is available.\n"
   ]
  },
  {
   "cell_type": "raw",
   "metadata": {},
   "source": [
    "## 3. Verify Data Consistency\n",
    "\n",
    "Let's check if all the necessary product information is available.\n"
   ]
  },
  {
   "cell_type": "raw",
   "metadata": {},
   "source": [
    "## 3. Verify Data Consistency\n",
    "\n",
    "Let's check if all the necessary product information is available.\n"
   ]
  },
  {
   "cell_type": "raw",
   "metadata": {},
   "source": [
    "## 3. Verify Data Consistency\n",
    "\n",
    "Let's check if all the necessary product information is available.\n"
   ]
  },
  {
   "cell_type": "raw",
   "metadata": {},
   "source": [
    "## 3. Verify Data Consistency\n",
    "\n",
    "Let's check if all the necessary product information is available.\n"
   ]
  },
  {
   "cell_type": "raw",
   "metadata": {
    "vscode": {
     "languageId": "raw"
    }
   },
   "source": [
    "## 2. Verify Data Structure\n",
    "\n",
    "Let's check the basic information about each split.\n"
   ]
  },
  {
   "cell_type": "code",
   "execution_count": 18,
   "metadata": {},
   "outputs": [
    {
     "name": "stdout",
     "output_type": "stream",
     "text": [
      "Dataset Statistics:\n",
      "Train set size: 2029\n",
      "Validation set size: 253\n",
      "Test set size: 253\n",
      "Metadata entries: 356\n",
      "Embeddings entries: 356\n",
      "\n",
      "Features in each split:\n",
      "\n",
      "Train data features:\n",
      "{'user_id': Value(dtype='string', id=None), 'parent_asin': Value(dtype='string', id=None), 'rating': Value(dtype='string', id=None), 'timestamp': Value(dtype='string', id=None), 'history': Value(dtype='string', id=None)}\n",
      "\n",
      "Metadata features:\n",
      "{'main_category': Value(dtype='string', id=None), 'title': Value(dtype='string', id=None), 'average_rating': Value(dtype='float64', id=None), 'rating_number': Value(dtype='int64', id=None), 'features': Sequence(feature=Value(dtype='string', id=None), length=-1, id=None), 'description': Sequence(feature=Value(dtype='string', id=None), length=-1, id=None), 'price': Value(dtype='string', id=None), 'images': {'hi_res': Sequence(feature=Value(dtype='string', id=None), length=-1, id=None), 'large': Sequence(feature=Value(dtype='string', id=None), length=-1, id=None), 'thumb': Sequence(feature=Value(dtype='string', id=None), length=-1, id=None), 'variant': Sequence(feature=Value(dtype='string', id=None), length=-1, id=None)}, 'videos': {'title': Sequence(feature=Value(dtype='string', id=None), length=-1, id=None), 'url': Sequence(feature=Value(dtype='string', id=None), length=-1, id=None), 'user_id': Sequence(feature=Value(dtype='string', id=None), length=-1, id=None)}, 'store': Value(dtype='string', id=None), 'categories': Sequence(feature=Value(dtype='null', id=None), length=-1, id=None), 'details': Value(dtype='string', id=None), 'parent_asin': Value(dtype='string', id=None), 'bought_together': Value(dtype='null', id=None)}\n",
      "\n",
      "Embeddings features:\n",
      "{'parent_asin': Value(dtype='string', id=None), 'title': Value(dtype='string', id=None), 'embedding': Sequence(feature=Value(dtype='float64', id=None), length=-1, id=None)}\n"
     ]
    }
   ],
   "source": [
    "print(\"Dataset Statistics:\")\n",
    "print(f\"Train set size: {len(train_data)}\")\n",
    "print(f\"Validation set size: {len(val_data)}\")\n",
    "print(f\"Test set size: {len(test_data)}\")\n",
    "print(f\"Metadata entries: {len(metadata)}\")\n",
    "print(f\"Embeddings entries: {len(embeddings)}\")\n",
    "\n",
    "print(\"\\nFeatures in each split:\")\n",
    "print(\"\\nTrain data features:\")\n",
    "print(train_data.features)\n",
    "\n",
    "print(\"\\nMetadata features:\")\n",
    "print(metadata.features)\n",
    "\n",
    "print(\"\\nEmbeddings features:\")\n",
    "print(embeddings.features)\n"
   ]
  },
  {
   "cell_type": "raw",
   "metadata": {},
   "source": [
    "## 3. Verify Data Consistency\n",
    "\n",
    "Let's check if all the necessary product information is available.\n"
   ]
  },
  {
   "cell_type": "code",
   "execution_count": 19,
   "metadata": {},
   "outputs": [
    {
     "name": "stdout",
     "output_type": "stream",
     "text": [
      "Data Coverage Analysis:\n",
      "Total unique products in interactions: 356\n",
      "Products with metadata: 356 (356 in interactions)\n",
      "Products with embeddings: 356 (356 in interactions)\n"
     ]
    }
   ],
   "source": [
    "# Convert to pandas for easier analysis\n",
    "train_df = train_data.to_pandas()\n",
    "val_df = val_data.to_pandas()\n",
    "test_df = test_data.to_pandas()\n",
    "metadata_df = metadata.to_pandas()\n",
    "embeddings_df = embeddings.to_pandas()\n",
    "\n",
    "# Collect all unique product IDs from interaction data\n",
    "all_products = set(pd.concat([\n",
    "    train_df['parent_asin'],\n",
    "    val_df['parent_asin'],\n",
    "    test_df['parent_asin']\n",
    "]).unique())\n",
    "\n",
    "# Check metadata coverage\n",
    "metadata_products = set(metadata_df['parent_asin'])\n",
    "embeddings_products = set(embeddings_df['parent_asin'])\n",
    "\n",
    "print(\"Data Coverage Analysis:\")\n",
    "print(f\"Total unique products in interactions: {len(all_products)}\")\n",
    "print(f\"Products with metadata: {len(metadata_products)} ({len(metadata_products & all_products)} in interactions)\")\n",
    "print(f\"Products with embeddings: {len(embeddings_products)} ({len(embeddings_products & all_products)} in interactions)\")\n",
    "\n",
    "# Check for missing information\n",
    "missing_metadata = all_products - metadata_products\n",
    "missing_embeddings = all_products - embeddings_products\n",
    "\n",
    "if missing_metadata:\n",
    "    print(f\"\\nProducts missing metadata: {len(missing_metadata)}\")\n",
    "    print(\"Example missing ASINs:\", list(missing_metadata)[:5])\n",
    "\n",
    "if missing_embeddings:\n",
    "    print(f\"\\nProducts missing embeddings: {len(missing_embeddings)}\")\n",
    "    print(\"Example missing ASINs:\", list(missing_embeddings)[:5])\n"
   ]
  },
  {
   "cell_type": "raw",
   "metadata": {
    "vscode": {
     "languageId": "raw"
    }
   },
   "source": [
    "## 4. Verify Embeddings Quality\n",
    "\n",
    "Let's check if the embeddings are properly formatted and can be used for similarity search.\n"
   ]
  },
  {
   "cell_type": "code",
   "execution_count": 20,
   "metadata": {},
   "outputs": [
    {
     "name": "stdout",
     "output_type": "stream",
     "text": [
      "Embedding dimension: 3072\n",
      "Embedding norm: 1.000000\n",
      "\n",
      "Similar products to B08LYT4Q2X:\n",
      "\n",
      "Title: Claireceuticals Sweet Almond Oil for Hair, Face & Skin - Organic Almond Oil for Skin - Pure Almond Oil Moisturizer for Dry Skin - Facial Moisturizer for Women - Ideal Dandruff Remover - 1.69 Fl Oz\n",
      "ASIN: B08HDG9F44\n",
      "Similarity: 0.6433\n",
      "\n",
      "Title: Livordo Moroccan Argan Oil Essential Organic Cold Pressed Skin Moisturizer Rich in Vitamin E Powerful Antioxidants For Skin, Hair, Body, and Face 4 Oz\n",
      "ASIN: B081632HX6\n",
      "Similarity: 0.5512\n",
      "\n",
      "Title: Argan Magic 100% Pure Argan Oil – Moisturizing Oil that Infuses Skin with Enriched Hydration | Leaves Skin Restored & Refreshed | Non-Greasy | Rich in Vitamin E | Made in USA | Cruelty Free (2 oz)\n",
      "ASIN: B00O2FGBJS\n",
      "Similarity: 0.5380\n",
      "\n",
      "Title: 100% PURE Coconut Body Scrub Exfoliating Deep Cleanse with Sea Salts & Nourishing Oils - Natural Deeply Moisturizing Skincare - Vibrant Radiant Skin Restore & Pore Cleanser - Vegan - 10oz\n",
      "ASIN: B09KX5N1DR\n",
      "Similarity: 0.5189\n",
      "\n",
      "Title: Calendula Soap With Coconut Oil Soap - Natural Body Soap | Best Body Bar For Dry & Sensitive Skin | Use As A Bath Soap & Face Pure Extracts (2.64 Ounce)\n",
      "ASIN: B08KHRF9NY\n",
      "Similarity: 0.5132\n"
     ]
    }
   ],
   "source": [
    "# Check embedding dimensions\n",
    "first_embedding = embeddings_df['embedding'].iloc[0]\n",
    "print(f\"Embedding dimension: {len(first_embedding)}\")\n",
    "\n",
    "# Verify embeddings are normalized\n",
    "embedding_norm = np.linalg.norm(first_embedding)\n",
    "print(f\"Embedding norm: {embedding_norm:.6f}\")\n",
    "\n",
    "# Example: Find similar products\n",
    "def find_similar_products(query_asin, top_k=5):\n",
    "    if query_asin not in embeddings_products:\n",
    "        print(f\"Product {query_asin} not found in embeddings\")\n",
    "        return\n",
    "    \n",
    "    # Get query embedding\n",
    "    query_idx = embeddings_df[embeddings_df['parent_asin'] == query_asin].index[0]\n",
    "    query_embedding = embeddings_df['embedding'].iloc[query_idx]\n",
    "    \n",
    "    # Calculate similarities\n",
    "    similarities = np.dot(np.stack(embeddings_df['embedding']), query_embedding)\n",
    "    \n",
    "    # Get top-k similar products\n",
    "    top_indices = np.argsort(similarities)[-top_k-1:][::-1]\n",
    "    \n",
    "    print(f\"\\nSimilar products to {query_asin}:\")\n",
    "    for idx in top_indices[1:]:  # Skip the first one (self-similarity)\n",
    "        product = embeddings_df.iloc[idx]\n",
    "        meta = metadata_df[metadata_df['parent_asin'] == product['parent_asin']].iloc[0]\n",
    "        print(f\"\\nTitle: {meta['title']}\")\n",
    "        print(f\"ASIN: {product['parent_asin']}\")\n",
    "        print(f\"Similarity: {similarities[idx]:.4f}\")\n",
    "\n",
    "# Test similarity search with a random product\n",
    "example_asin = embeddings_df['parent_asin'].iloc[0]\n",
    "find_similar_products(example_asin)\n"
   ]
  },
  {
   "cell_type": "raw",
   "metadata": {
    "vscode": {
     "languageId": "raw"
    }
   },
   "source": [
    "## 5. Verify User Interaction Data\n",
    "\n",
    "Let's check the user interaction patterns in the dataset.\n"
   ]
  },
  {
   "cell_type": "code",
   "execution_count": 21,
   "metadata": {},
   "outputs": [
    {
     "name": "stdout",
     "output_type": "stream",
     "text": [
      "User Interaction Statistics:\n",
      "\n",
      "Train set:\n",
      "Unique users: 253\n",
      "Average interactions per user: 8.02\n",
      "\n",
      "Validation set:\n",
      "Unique users: 253\n",
      "Average interactions per user: 1.00\n",
      "\n",
      "Test set:\n",
      "Unique users: 253\n",
      "Average interactions per user: 1.00\n",
      "\n",
      "User Overlap Analysis:\n",
      "Train-Val overlap: 253 users\n",
      "Train-Test overlap: 253 users\n",
      "Val-Test overlap: 253 users\n"
     ]
    }
   ],
   "source": [
    "print(\"User Interaction Statistics:\")\n",
    "print(f\"\\nTrain set:\")\n",
    "print(f\"Unique users: {train_df['user_id'].nunique()}\")\n",
    "print(f\"Average interactions per user: {len(train_df) / train_df['user_id'].nunique():.2f}\")\n",
    "\n",
    "print(f\"\\nValidation set:\")\n",
    "print(f\"Unique users: {val_df['user_id'].nunique()}\")\n",
    "print(f\"Average interactions per user: {len(val_df) / val_df['user_id'].nunique():.2f}\")\n",
    "\n",
    "print(f\"\\nTest set:\")\n",
    "print(f\"Unique users: {test_df['user_id'].nunique()}\")\n",
    "print(f\"Average interactions per user: {len(test_df) / test_df['user_id'].nunique():.2f}\")\n",
    "\n",
    "# Check user overlap between splits\n",
    "train_users = set(train_df['user_id'])\n",
    "val_users = set(val_df['user_id'])\n",
    "test_users = set(test_df['user_id'])\n",
    "\n",
    "print(\"\\nUser Overlap Analysis:\")\n",
    "print(f\"Train-Val overlap: {len(train_users & val_users)} users\")\n",
    "print(f\"Train-Test overlap: {len(train_users & test_users)} users\")\n",
    "print(f\"Val-Test overlap: {len(val_users & test_users)} users\")\n"
   ]
  },
  {
   "cell_type": "raw",
   "metadata": {
    "vscode": {
     "languageId": "raw"
    }
   },
   "source": [
    "## 6. Example: Load User History\n",
    "\n",
    "Let's verify that user history is properly formatted and can be used for recommendation.\n"
   ]
  },
  {
   "cell_type": "code",
   "execution_count": 22,
   "metadata": {},
   "outputs": [
    {
     "name": "stdout",
     "output_type": "stream",
     "text": [
      "Example user: AFSKPY37N3C43SOI5IEXEK5JSIYA\n",
      "\n",
      "Interaction history:\n",
      "\n",
      "Product: Manicure and Pedicure Nail Clipper from POWERGROOMING - Powerful Trimmer for Thick and Thin Finger Nails and Toe Nails - Included Nail File and\"Catcher\" for Easy Cleanup (1 Pack)\n",
      "ASIN: B07J3GH1W1\n",
      "Rating: 5.0\n",
      "Timestamp: 1547589356557\n",
      "\n",
      "Product: Iryasa Night Indulge Cream - Natural Face Cream for Dry Skin - Vegan Anti Aging Night Cream for Women - Firming Cream for Face and Neck - Organic Vitamin C Moisturizer for Face - 1.7oz\n",
      "ASIN: B07W397QG4\n",
      "Rating: 5.0\n",
      "Timestamp: 1593352422858\n",
      "\n",
      "Product: Organic Bamboo Cotton Ear Swabs by Bali Boo - 200 - Natural Wooden Qtips Cotton Swabs for Cleaning Ears, Baby or Makeup and Nails - Sustainable & Vegan Buds Sticks - Eco Friendly & Biodegradable\n",
      "ASIN: B07KG1TWP5\n",
      "Rating: 5.0\n",
      "Timestamp: 1596473351088\n",
      "\n",
      "Product: GAINWELL\n",
      "ASIN: B08JTNQFZY\n",
      "Rating: 5.0\n",
      "Timestamp: 1617904219785\n",
      "\n",
      "Product: Keratin Secrets Do It Yourself Home Keratin System\n",
      "ASIN: B07SLFWZKN\n",
      "Rating: 3.0\n",
      "Timestamp: 1619737501209\n",
      "\n",
      "Number of previous interactions: 4\n",
      "Previous products:\n",
      "- Manicure and Pedicure Nail Clipper from POWERGROOMING - Powerful Trimmer for Thick and Thin Finger Nails and Toe Nails - Included Nail File and\"Catcher\" for Easy Cleanup (1 Pack) (B07J3GH1W1)\n",
      "- Iryasa Night Indulge Cream - Natural Face Cream for Dry Skin - Vegan Anti Aging Night Cream for Women - Firming Cream for Face and Neck - Organic Vitamin C Moisturizer for Face - 1.7oz (B07W397QG4)\n",
      "- Organic Bamboo Cotton Ear Swabs by Bali Boo - 200 - Natural Wooden Qtips Cotton Swabs for Cleaning Ears, Baby or Makeup and Nails - Sustainable & Vegan Buds Sticks - Eco Friendly & Biodegradable (B07KG1TWP5)\n",
      "- GAINWELL (B08JTNQFZY)\n"
     ]
    }
   ],
   "source": [
    "# Get a random user's history\n",
    "example_user = train_df['user_id'].iloc[0]\n",
    "\n",
    "print(f\"Example user: {example_user}\")\n",
    "print(\"\\nInteraction history:\")\n",
    "\n",
    "# Get all interactions\n",
    "user_history = train_df[train_df['user_id'] == example_user]\n",
    "for _, interaction in user_history.iterrows():\n",
    "    product_meta = metadata_df[metadata_df['parent_asin'] == interaction['parent_asin']].iloc[0]\n",
    "    print(f\"\\nProduct: {product_meta['title']}\")\n",
    "    print(f\"ASIN: {interaction['parent_asin']}\")\n",
    "    print(f\"Rating: {interaction['rating']}\")\n",
    "    print(f\"Timestamp: {interaction['timestamp']}\")\n",
    "    \n",
    "# Parse and check the history field\n",
    "history_asins = interaction['history'].split()\n",
    "print(f\"\\nNumber of previous interactions: {len(history_asins)}\")\n",
    "print(\"Previous products:\")\n",
    "for asin in history_asins:\n",
    "    if asin in metadata_products:\n",
    "        title = metadata_df[metadata_df['parent_asin'] == asin].iloc[0]['title']\n",
    "        print(f\"- {title} ({asin})\")\n"
   ]
  }
 ],
 "metadata": {
  "kernelspec": {
   "display_name": "venv",
   "language": "python",
   "name": "python3"
  },
  "language_info": {
   "codemirror_mode": {
    "name": "ipython",
    "version": 3
   },
   "file_extension": ".py",
   "mimetype": "text/x-python",
   "name": "python",
   "nbconvert_exporter": "python",
   "pygments_lexer": "ipython3",
   "version": "3.11.13"
  }
 },
 "nbformat": 4,
 "nbformat_minor": 2
}
